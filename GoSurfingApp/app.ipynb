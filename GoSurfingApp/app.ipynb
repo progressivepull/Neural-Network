{
  "metadata": {
    "kernelspec": {
      "name": "python",
      "display_name": "Python (Pyodide)",
      "language": "python"
    },
    "language_info": {
      "codemirror_mode": {
        "name": "python",
        "version": 3
      },
      "file_extension": ".py",
      "mimetype": "text/x-python",
      "name": "python",
      "nbconvert_exporter": "python",
      "pygments_lexer": "ipython3",
      "version": "3.8"
    }
  },
  "nbformat_minor": 5,
  "nbformat": 4,
  "cells": [
    {
      "id": "274f5e32-2328-462e-8302-863d9256c05b",
      "cell_type": "markdown",
      "source": "# Define Input Layer: Takes in data\nInput variables (1 = yes, 0 = no)\n* X1 = Good waves\n* X2 = Empty lineup\n* X3 = Shark-free zone",
      "metadata": {}
    },
    {
      "id": "793cf4df-c4c6-40ed-8f41-48bd286dcae9",
      "cell_type": "code",
      "source": "def input_layer():\n    # Input variables (1 = yes, 0 = no)\n    X1 = 1  # Good waves\n    X2 = 0  # Empty lineup\n    X3 = 1  # Shark-free zone\n    return [X1, X2, X3]",
      "metadata": {
        "trusted": true
      },
      "outputs": [],
      "execution_count": null
    },
    {
      "id": "209b21fd-eff8-4955-8c33-b4e718735f3b",
      "cell_type": "markdown",
      "source": "# Define Hidden Layer: Processes and transforms data\nsee Neural-Network/Analysis/Computes_the_weighted_sum.ipynb for information about \n```\nsum([x * w for x, w in zip(inputs, weights)])\n```",
      "metadata": {}
    },
    {
      "id": "5521c359-1559-4506-ad76-c3dc8333cdc7",
      "cell_type": "code",
      "source": "def hidden_layer(inputs, weights, bias):\n    # Compute the weighted sum of inputs and apply bias\n    weighted_sum = sum([x * w for x, w in zip(inputs, weights)]) - bias\n    return weighted_sum",
      "metadata": {
        "trusted": true
      },
      "outputs": [],
      "execution_count": 3
    },
    {
      "id": "bd5db6ee-4ec0-4668-8b36-3a31254d27c5",
      "cell_type": "markdown",
      "source": "# Define Output Layer: Provides the final result",
      "metadata": {}
    },
    {
      "id": "29c47c5d-4d37-46fe-a6df-34bec545bf2a",
      "cell_type": "code",
      "source": "def output_layer(weighted_sum):\n    # Apply decision threshold\n    if weighted_sum > 0:\n        return 1  # We’re going surfing!\n    else:\n        return 0  # No surfing today.",
      "metadata": {
        "trusted": true
      },
      "outputs": [],
      "execution_count": 4
    },
    {
      "id": "94614634-afd6-4867-aba8-c2eac0b7df63",
      "cell_type": "code",
      "source": "# Input Layer: Get input values\ninputs = input_layer()",
      "metadata": {
        "trusted": true
      },
      "outputs": [],
      "execution_count": 5
    },
    {
      "id": "585d9788-5cea-4ca4-8cf7-b2a292641941",
      "cell_type": "code",
      "source": "# Define weights and bias\nweights = [5, 2, 4]  # Importance of good waves, empty lineup, avoiding sharks\nbias = -3  # Decision threshold bias",
      "metadata": {
        "trusted": true
      },
      "outputs": [],
      "execution_count": 6
    },
    {
      "id": "d8d059ef-41a5-4479-b5e5-21a94e7a39cf",
      "cell_type": "code",
      "source": "# Hidden Layer: Process the inputs\nweighted_sum = hidden_layer(inputs, weights, bias)",
      "metadata": {
        "trusted": true
      },
      "outputs": [],
      "execution_count": 7
    },
    {
      "id": "7451766a-e5a0-4be1-b9dd-f1c57433971e",
      "cell_type": "code",
      "source": "# Output Layer: Make a decision\ndecision = output_layer(weighted_sum)",
      "metadata": {
        "trusted": true
      },
      "outputs": [],
      "execution_count": 8
    },
    {
      "id": "6d83ed27-294c-495c-a55a-90dd2c4ab543",
      "cell_type": "code",
      "source": "# Display results\nif decision == 1:\n    print(\"Output: 1 (We’re going surfing!)\")\nelse:\n    print(\"Output: 0 (No surfing today.)\")",
      "metadata": {
        "trusted": true
      },
      "outputs": [
        {
          "name": "stdout",
          "output_type": "stream",
          "text": "Output: 1 (We’re going surfing!)\n"
        }
      ],
      "execution_count": 10
    },
    {
      "id": "457223a7-7faf-4481-9c8b-3dae207c0d98",
      "cell_type": "code",
      "source": "# Display the computed value\nprint(f\"Y_hat: {weighted_sum}\")",
      "metadata": {
        "trusted": true
      },
      "outputs": [
        {
          "name": "stdout",
          "output_type": "stream",
          "text": "Y_hat: 12\n"
        }
      ],
      "execution_count": 11
    },
    {
      "id": "64d5be2c-9bb9-49e4-890c-1157b3eab251",
      "cell_type": "code",
      "source": "",
      "metadata": {
        "trusted": true
      },
      "outputs": [],
      "execution_count": null
    }
  ]
}