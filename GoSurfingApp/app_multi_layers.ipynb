{
  "metadata": {
    "kernelspec": {
      "name": "python",
      "display_name": "Python (Pyodide)",
      "language": "python"
    },
    "language_info": {
      "codemirror_mode": {
        "name": "python",
        "version": 3
      },
      "file_extension": ".py",
      "mimetype": "text/x-python",
      "name": "python",
      "nbconvert_exporter": "python",
      "pygments_lexer": "ipython3",
      "version": "3.8"
    }
  },
  "nbformat_minor": 5,
  "nbformat": 4,
  "cells": [
    {
      "id": "0912995f-58a4-4ead-b99f-df7fd6eccc41",
      "cell_type": "code",
      "source": "import numpy as np",
      "metadata": {
        "trusted": true
      },
      "outputs": [],
      "execution_count": 2
    },
    {
      "id": "1cc7b9a6-a578-4840-8efc-bd04a08f0344",
      "cell_type": "markdown",
      "source": "# Define the sigmoid activation function",
      "metadata": {}
    },
    {
      "id": "3fd1b417-895d-4217-9709-faaefa6ea9ad",
      "cell_type": "code",
      "source": "def sigmoid(x):\n    return 1 / (1 + np.exp(-x))",
      "metadata": {
        "trusted": true
      },
      "outputs": [],
      "execution_count": 3
    },
    {
      "id": "5c2ddc4a-5965-489d-bdbc-c5a8297307ed",
      "cell_type": "markdown",
      "source": "# Define the structure of the neural network\n* Input layer: X1, X2, X3\n* Hidden layers: Two layers with weights and biases\n* Output layer: Single output node",
      "metadata": {}
    },
    {
      "id": "cccde458-44d0-4313-9af3-47f5b0354445",
      "cell_type": "markdown",
      "source": "# Input variables (1 = yes, 0 = no)",
      "metadata": {}
    },
    {
      "id": "a24cada7-1ce8-44a0-8f54-4f8ad09cb0bc",
      "cell_type": "code",
      "source": "inputs = np.array([1, 0, 1])  # X1 = Good waves, X2 = Empty lineup, X3 = Shark-free zone",
      "metadata": {
        "trusted": true
      },
      "outputs": [],
      "execution_count": 4
    },
    {
      "id": "4bb9bb58-07b6-48dc-9db5-d1a8a3d5ab45",
      "cell_type": "markdown",
      "source": "# Weights for the first hidden layer (3 inputs, 4 neurons in the first hidden layer)",
      "metadata": {}
    },
    {
      "id": "18a178fe-e57e-491c-82b5-6aa5e5edaa3a",
      "cell_type": "code",
      "source": "weights_hidden1 = np.array([\n    [0.5, 0.2, 0.1, 0.4],  # Weights for X1\n    [0.3, 0.8, 0.5, 0.7],  # Weights for X2\n    [0.6, 0.1, 0.3, 0.9]   # Weights for X3\n])",
      "metadata": {
        "trusted": true
      },
      "outputs": [],
      "execution_count": 5
    },
    {
      "id": "7a5e5c13-5d8e-41cc-a86d-467aad0e695d",
      "cell_type": "markdown",
      "source": "# Biases for the first hidden layer",
      "metadata": {}
    },
    {
      "id": "bab7ebe2-3ada-40ef-b988-cf38fcb4a0da",
      "cell_type": "code",
      "source": "bias_hidden1 = np.array([0.1, 0.2, 0.3, 0.1])  ",
      "metadata": {
        "trusted": true
      },
      "outputs": [],
      "execution_count": 6
    },
    {
      "id": "daf3b824-7b4d-4fc2-b041-0f62c6f3f38a",
      "cell_type": "markdown",
      "source": "# Weights for the second hidden layer (4 inputs, 3 neurons in the second hidden layer)",
      "metadata": {}
    },
    {
      "id": "984e5400-2d39-4dcc-a40a-39043a1df4cb",
      "cell_type": "code",
      "source": "weights_hidden2 = np.array([\n    [0.5, 0.3, 0.6],\n    [0.8, 0.2, 0.9],\n    [0.4, 0.7, 0.5],\n    [0.6, 0.1, 0.3]\n])",
      "metadata": {
        "trusted": true
      },
      "outputs": [],
      "execution_count": 7
    },
    {
      "id": "e179dcfa-48bf-42ad-ad0f-321ee37d47e7",
      "cell_type": "markdown",
      "source": "# Biases for the second hidden layer",
      "metadata": {}
    },
    {
      "id": "05f7d919-92c5-4845-ab13-5d81ee9dc261",
      "cell_type": "code",
      "source": "bias_hidden2 = np.array([0.2, 0.1, 0.3])  ",
      "metadata": {
        "trusted": true
      },
      "outputs": [],
      "execution_count": 8
    },
    {
      "id": "274f2132-c1ca-41be-8798-7f739a5e0a83",
      "cell_type": "markdown",
      "source": "# Weights for the output layer (3 inputs, 1 neuron in the output layer)",
      "metadata": {}
    },
    {
      "id": "391ea18e-c224-41ba-bcbd-f41b47a21cb8",
      "cell_type": "code",
      "source": "weights_output = np.array([0.7, 0.5, 0.8])",
      "metadata": {
        "trusted": true
      },
      "outputs": [],
      "execution_count": 9
    },
    {
      "id": "8b80ddaa-9bed-4054-8b37-ecfa23fe4ca0",
      "cell_type": "markdown",
      "source": "# Bias for the output layer",
      "metadata": {}
    },
    {
      "id": "1a5676ce-2d32-4940-9afa-8dc3a44c5230",
      "cell_type": "code",
      "source": "bias_output = -0.5  ",
      "metadata": {
        "trusted": true
      },
      "outputs": [],
      "execution_count": 10
    },
    {
      "id": "d3d102aa-59d3-4b4c-9366-e5d0ff5dc570",
      "cell_type": "markdown",
      "source": "# Forward pass through the first hidden layer",
      "metadata": {}
    },
    {
      "id": "9bf65289-77ae-4c29-a0df-1e423924d552",
      "cell_type": "code",
      "source": "hidden1_input = np.dot(inputs, weights_hidden1) + bias_hidden1",
      "metadata": {
        "trusted": true
      },
      "outputs": [],
      "execution_count": 11
    },
    {
      "id": "c4b34bf5-e0d3-4c20-8173-9e30c77c4779",
      "cell_type": "markdown",
      "source": " # Apply activation function",
      "metadata": {}
    },
    {
      "id": "6b498ce7-8e66-415a-aedf-474747310669",
      "cell_type": "code",
      "source": "hidden1_output = sigmoid(hidden1_input) ",
      "metadata": {
        "trusted": true
      },
      "outputs": [],
      "execution_count": 12
    },
    {
      "id": "f19181ee-ee74-4e19-af73-751d0bb085d7",
      "cell_type": "markdown",
      "source": "# Forward pass through the second hidden layer",
      "metadata": {}
    },
    {
      "id": "b02aeee3-b1e6-4690-9b2d-2f00970615bf",
      "cell_type": "code",
      "source": "hidden2_input = np.dot(hidden1_output, weights_hidden2) + bias_hidden2",
      "metadata": {
        "trusted": true
      },
      "outputs": [],
      "execution_count": 13
    },
    {
      "id": "9fc107f3-2a8b-4ad4-8088-742b8636a8e6",
      "cell_type": "markdown",
      "source": " # Apply activation function",
      "metadata": {}
    },
    {
      "id": "4738827a-a3f2-4636-b062-31e3caa8a40e",
      "cell_type": "code",
      "source": "hidden2_output = sigmoid(hidden2_input) ",
      "metadata": {
        "trusted": true
      },
      "outputs": [],
      "execution_count": 14
    },
    {
      "id": "a99aa954-9f75-45d3-9cfa-6f4484cab20a",
      "cell_type": "markdown",
      "source": "# Forward pass through the output layer",
      "metadata": {}
    },
    {
      "id": "56e12306-30b2-4959-93ca-1527a3cee4f1",
      "cell_type": "code",
      "source": "output_input = np.dot(hidden2_output, weights_output) + bias_output",
      "metadata": {
        "trusted": true
      },
      "outputs": [],
      "execution_count": 15
    },
    {
      "id": "5a0bbfdc-2cde-4095-8a1a-1073b385c9e8",
      "cell_type": "markdown",
      "source": "# Apply activation function",
      "metadata": {}
    },
    {
      "id": "42afd90c-d4b3-4034-ad34-a17aba1a0c59",
      "cell_type": "code",
      "source": "output = sigmoid(output_input)  ",
      "metadata": {
        "trusted": true
      },
      "outputs": [],
      "execution_count": 16
    },
    {
      "id": "1284a4f0-0865-4e61-ad97-d86c6418a7ab",
      "cell_type": "markdown",
      "source": "# Decision",
      "metadata": {}
    },
    {
      "id": "19c2eff1-a532-4314-ad17-dbbc635679a9",
      "cell_type": "code",
      "source": "if output > 0.5:  # Using 0.5 as the threshold\n    print(f\"Output: 1 (Decision: We’re going surfing!)\")\nelse:\n    print(f\"Output: 0 (Decision: No surfing today.)\")",
      "metadata": {
        "trusted": true
      },
      "outputs": [
        {
          "name": "stdout",
          "output_type": "stream",
          "text": "Output: 1 (Decision: We’re going surfing!)\n"
        }
      ],
      "execution_count": 17
    },
    {
      "id": "5669e871-e5ea-47d0-8329-cb92cb39cfd5",
      "cell_type": "markdown",
      "source": "# Display the computed value",
      "metadata": {}
    },
    {
      "id": "38ae0c8f-b0d4-46a5-a650-d6fcc45c5b74",
      "cell_type": "code",
      "source": "print(f\"Output value (Y_hat): {output}\")",
      "metadata": {
        "trusted": true
      },
      "outputs": [
        {
          "name": "stdout",
          "output_type": "stream",
          "text": "Output value (Y_hat): 0.762182530316983\n"
        }
      ],
      "execution_count": 18
    },
    {
      "id": "017ddbcd-6fa6-4120-8cc2-10caa5a3fd68",
      "cell_type": "code",
      "source": "",
      "metadata": {
        "trusted": true
      },
      "outputs": [],
      "execution_count": null
    }
  ]
}