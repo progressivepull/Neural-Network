{
 "cells": [
  {
   "cell_type": "code",
   "execution_count": 3,
   "id": "b1391535-6656-495e-8b80-b5479ecab61c",
   "metadata": {},
   "outputs": [],
   "source": [
    "import numpy as np\n",
    "import matplotlib.pyplot as plt"
   ]
  },
  {
   "cell_type": "markdown",
   "id": "4042cc0a-17d8-4f30-b398-02e752a9f037",
   "metadata": {},
   "source": [
    "<p style=\"color: blue; font-size: 30px;\"><b>Calculate the Mean Squared Error (MSE) step by step by hand</b></p>"
   ]
  },
  {
   "cell_type": "markdown",
   "id": "1e7c6232-b448-4fea-ab4f-d6f745736264",
   "metadata": {},
   "source": [
    "## Calculation of Differences"
   ]
  },
  {
   "cell_type": "code",
   "execution_count": 404,
   "id": "dd76a10d-9c13-49eb-b3bd-541757012049",
   "metadata": {},
   "outputs": [
    {
     "name": "stdout",
     "output_type": "stream",
     "text": [
      "0 : 0.5 = 3 - 2.5\n",
      "1 : -0.5 = -0.5 - 0.0\n",
      "2 : 0 = 2 - 2\n",
      "3 : -1 = 7 - 8\n",
      "ANSWER\n",
      "[0.5, -0.5, 0, -1]\n"
     ]
    }
   ],
   "source": [
    "actual_values = [3, -0.5, 2, 7]\n",
    "predicted_values = [2.5, 0.0, 2, 8]\n",
    "\n",
    "final_values = [0, 0, 0, 0]\n",
    "\n",
    "for x in range(4):  # Loop through indices 0 to 3\n",
    "    final_values[x] = actual_values[x] - predicted_values[x]\n",
    "    print(str(x) + \" : \" + str(final_values[x]) + \" = \" + str(actual_values[x]) + \" - \" + str(predicted_values[x]) )\n",
    "\n",
    "print(\"ANSWER\")\n",
    "\n",
    "print(final_values)"
   ]
  },
  {
   "cell_type": "markdown",
   "id": "26bbfa68-edce-4e39-a08c-422fb822e132",
   "metadata": {},
   "source": [
    "#### OR ( Using Numpy)"
   ]
  },
  {
   "cell_type": "code",
   "execution_count": 407,
   "id": "39b1c5e1-db06-48ce-9400-4e45c57c1225",
   "metadata": {},
   "outputs": [
    {
     "name": "stdout",
     "output_type": "stream",
     "text": [
      "Difference: [ 0.5 -0.5  0.  -1. ]\n"
     ]
    }
   ],
   "source": [
    "import numpy as np\n",
    "\n",
    "# Arrays\n",
    "actual_values = np.array([3, -0.5, 2, 7])\n",
    "predicted_values = np.array([2.5, 0.0, 2, 8])\n",
    "\n",
    "# Subtraction\n",
    "difference = actual_values - predicted_values\n",
    "\n",
    "print(\"Difference:\", difference)"
   ]
  },
  {
   "cell_type": "markdown",
   "id": "e55a17b0-794f-4847-9999-bc8c0b3022ad",
   "metadata": {},
   "source": [
    "## Square the differences\n",
    "Now square each difference (so all values are positive):"
   ]
  },
  {
   "cell_type": "code",
   "execution_count": 410,
   "id": "5f8f626e-e080-4b0e-8cde-408026d5a22c",
   "metadata": {},
   "outputs": [
    {
     "name": "stdout",
     "output_type": "stream",
     "text": [
      "0 : 0.25 = 0.5 * 0.5\n",
      "1 : 0.25 = -0.5 * -0.5\n",
      "2 : 0 = 0 * 0\n",
      "3 : 1 = -1 * -1\n",
      "ANSWER\n",
      "[0.25, 0.25, 0, 1]\n"
     ]
    }
   ],
   "source": [
    "final_values = [ 0.5, -0.5,  0, -1 ]\n",
    "\n",
    "for x in range(4): \n",
    "    print(str(x) + \" : \" + str(final_values [x] ** 2) + \" = \" + str(final_values [x]) + \" * \" + str(final_values [x]) )\n",
    "    final_values [x] = final_values [x] **2\n",
    "    \n",
    "\n",
    "print(\"ANSWER\")\n",
    "\n",
    "print(final_values)"
   ]
  },
  {
   "cell_type": "markdown",
   "id": "24f01960-3846-4d1d-b9af-6bb531ffe78d",
   "metadata": {},
   "source": [
    "## Sum up the squared differences"
   ]
  },
  {
   "cell_type": "markdown",
   "id": "5dca8457-4e09-4942-b926-7aab61541449",
   "metadata": {},
   "source": [
    "Add up all the squared differences: $$0.25 + 0.25 + 0 + 1 = 1.5$$"
   ]
  },
  {
   "cell_type": "markdown",
   "id": "1fe1e91a-8ff9-4637-8f5f-69468301d525",
   "metadata": {},
   "source": [
    "## Divide by the number of data points"
   ]
  },
  {
   "cell_type": "markdown",
   "id": "8a707bd2-8e99-401d-89fd-5f66fef4225c",
   "metadata": {},
   "source": [
    "Finally, divide the total squared differences by the number of data points (4) to get the mean: $$\\text{MSE} = \\frac{1.5}{4} = 0.375$$"
   ]
  },
  {
   "cell_type": "markdown",
   "id": "a83671ac-d2a7-4c2e-aa2a-8c1166758ed9",
   "metadata": {},
   "source": [
    "## Final Answer:\n",
    "The Mean Squared Error (MSE) is 0.375."
   ]
  },
  {
   "cell_type": "code",
   "execution_count": null,
   "id": "1ef8bcbc-c14b-492c-b1e4-27439dc5f5e3",
   "metadata": {},
   "outputs": [],
   "source": []
  }
 ],
 "metadata": {
  "kernelspec": {
   "display_name": "Python [conda env:base] *",
   "language": "python",
   "name": "conda-base-py"
  },
  "language_info": {
   "codemirror_mode": {
    "name": "ipython",
    "version": 3
   },
   "file_extension": ".py",
   "mimetype": "text/x-python",
   "name": "python",
   "nbconvert_exporter": "python",
   "pygments_lexer": "ipython3",
   "version": "3.12.7"
  }
 },
 "nbformat": 4,
 "nbformat_minor": 5
}
