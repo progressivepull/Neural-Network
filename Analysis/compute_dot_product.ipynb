{
 "cells": [
  {
   "cell_type": "code",
   "execution_count": 4,
   "id": "e940a0e9-627f-41ef-a381-ce2ea656d24d",
   "metadata": {},
   "outputs": [],
   "source": [
    "import numpy as np\n",
    "import matplotlib.pyplot as plt"
   ]
  },
  {
   "cell_type": "markdown",
   "id": "c35ce68d-e699-458f-9b3c-1ab05fea7492",
   "metadata": {},
   "source": [
    "<p style=\"color: blue; font-size: 30px;\"><b>Compute Dot Product</b></p>"
   ]
  },
  {
   "cell_type": "markdown",
   "id": "4d82b29d-7984-4bb9-9fb5-626555dd1832",
   "metadata": {},
   "source": [
    "## How to Compute It\n",
    "There are two main ways to compute the dot product:\n",
    "\n",
    "### **1. Geometric Definition:**\n",
    "The dot product measures the projection of one vector onto another. Mathematically, it's expressed as: $$a ⋅ b = |a| × |b| × \\cos(θ)$$\n",
    "\n",
    "Where:\n",
    "\n",
    "* ∣𝑎∣ and ∣𝑏∣ are the magnitudes (lengths) of the vectors 𝑎 and 𝑏\n",
    "* 𝜃 is the angle between the vectors.\n",
    "* cos(𝜃) is the cosine of that angle."
   ]
  },
  {
   "cell_type": "markdown",
   "id": "7eb6292a-59af-430e-8371-05c20646e4df",
   "metadata": {},
   "source": [
    "**Example**         \n",
    "Let's illustrate the formula for the dot product of two vectors, a ⋅ b = |a| × |b| × cos(θ), with numbers.\n",
    "\n",
    "Suppose vector a has a magnitude |a| = 5, and vector b has a magnitude |b| = 3. Let the angle θ between the two vectors be 60°. Using the formula:\n",
    "\n",
    "a ⋅ b = |a| × |b| × cos(θ)\n",
    "\n",
    "|a| = 5, |b| = 3, and cos(60°) = 0.5\n",
    "\n",
    "Substitute these values: a ⋅ b = (5 × 3) × 0.5\n",
    "\n",
    "Perform the calculation: a ⋅ b = (15) × 0.5 = 7.5\n",
    "\n",
    "So, the dot product of a and b in this example is 7.5."
   ]
  },
  {
   "cell_type": "markdown",
   "id": "c4324aa8-5d73-4258-9a30-0074d637f782",
   "metadata": {},
   "source": [
    "**Converting two vectors into two arrays**\n",
    "\n",
    "To convert this information into arrays, we can compute the components of the vectors a and b based on their magnitudes and the angle θ.\n",
    "\n",
    "**Breakdown:**\n",
    "* 1. Vector a has a magnitude |a| = 5. Assume it lies along the x-axis for simplicity: **a = [5, 0]** (x-component is 5, y-component is 0).\n",
    " \n",
    "\n",
    "* 2. Vector b has a magnitude |b| = 3 and forms an angle of θ = 60° with vector a. Use trigonometric functions to calculate its components:    \n",
    "\n",
    "x-component: bₓ = |b| × cos(θ)    \n",
    "\n",
    "y-component: bᵧ = |b| × sin(θ)      \n",
    "\n",
    "Substituting values:   \n",
    "\n",
    "bₓ = 3 × cos(60°) = 3 × 0.5 = 1.5    \n",
    "\n",
    "bᵧ = 3 × sin(60°) = 3 × √3/2 ≈ 3 × 0.866 = 2.598    \n",
    "\n",
    "Therefore, b = [1.5, 2.598].     \n",
    "\n",
    "Final Output:   \n",
    "a = [5, 0]  \n",
    "\n",
    "b ≈ [1.5, 2.598]   \n",
    "\n",
    "Now the vectors are expressed as arrays!    "
   ]
  },
  {
   "cell_type": "markdown",
   "id": "bc39acc3-51df-4e68-9777-24df9e12b3de",
   "metadata": {},
   "source": [
    "### **2. Algebraic Definition:**\n",
    "\n",
    "If the vectors are written in component form as: $$ a = [a_1, a_2, ..., a_n], \\ b = [b_1, b_2, ..., b_n] $$\n",
    "\n",
    "The dot product is calculated by multiplying corresponding components and summing them: $$ a ⋅ b = a_1b_1 + a_2b_2 + ... + a_nb_n $$\n",
    "\n",
    "**Steps:**     \n",
    "aₓ = 5, aᵧ = 0 (components of vector a)   \n",
    "\n",
    "bₓ = 1.5, bᵧ ≈ 2.598 (components of vector b)    \n",
    "\n",
    "Substitute into the formula: a ⋅ b = (5 × 1.5) + (0 × 2.598)    \n",
    "\n",
    "Calculate: a ⋅ b = 7.5 + 0 = 7.5  \n",
    "\n",
    "**Result:**      \n",
    "The dot product of a and b is 7.5. Let me know if you'd like to explore more calculations or concepts!\n"
   ]
  },
  {
   "cell_type": "markdown",
   "id": "eae35b6a-127c-4b1d-8e47-877d047bdfba",
   "metadata": {},
   "source": [
    "### Applications\n",
    "* Angle Calculation: Using \n",
    "\n",
    "$$\\cos(\\theta) = \\frac{a \\cdot b}{|a| \\times |b|}$$\n",
    "\n",
    "you can find the angle 𝜃 between two vectors.\n",
    "\n",
    "* Projections:        \n",
    "Helps find how much one vector aligns with another.\n",
    "\n",
    "* Physics:      \n",
    "Used in work calculations, where force and displacement vectors are involved"
   ]
  },
  {
   "cell_type": "code",
   "execution_count": null,
   "id": "1ef8bcbc-c14b-492c-b1e4-27439dc5f5e3",
   "metadata": {},
   "outputs": [],
   "source": []
  }
 ],
 "metadata": {
  "kernelspec": {
   "display_name": "Python [conda env:base] *",
   "language": "python",
   "name": "conda-base-py"
  },
  "language_info": {
   "codemirror_mode": {
    "name": "ipython",
    "version": 3
   },
   "file_extension": ".py",
   "mimetype": "text/x-python",
   "name": "python",
   "nbconvert_exporter": "python",
   "pygments_lexer": "ipython3",
   "version": "3.12.7"
  }
 },
 "nbformat": 4,
 "nbformat_minor": 5
}
