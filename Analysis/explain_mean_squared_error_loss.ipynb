{
 "cells": [
  {
   "cell_type": "code",
   "execution_count": null,
   "id": "8c2d6e1f-29fd-4c6f-8ce8-fa072e677723",
   "metadata": {},
   "outputs": [],
   "source": [
    "import numpy as np\n",
    "import matplotlib.pyplot as plt"
   ]
  },
  {
   "cell_type": "markdown",
   "id": "c5b38401-6525-4baf-85b1-f05171a07f53",
   "metadata": {},
   "source": [
    "<p style=\"color: blue; font-size: 30px;\"><b>Explain Mean Squared Error Loss</b></p> "
   ]
  },
  {
   "cell_type": "markdown",
   "id": "c635ba95-73a8-4e86-8155-980d2f0dbfef",
   "metadata": {},
   "source": [
    "Mean Squared Error (MSE) loss is a common metric used in regression tasks to measure the difference between predicted values and actual values. Here's how it works:"
   ]
  },
  {
   "cell_type": "markdown",
   "id": "460db909-0529-4c79-ae54-2ba8cb5b20fa",
   "metadata": {},
   "source": [
    "## Formula:\n",
    "The MSE is calculated as:"
   ]
  },
  {
   "cell_type": "markdown",
   "id": "e5dafa23-c9b6-471d-a92a-bf5f58695488",
   "metadata": {},
   "source": [
    "$$\\text{MSE} = \\frac{1}{n} \\sum_{i=1}^{n} (y_i - \\hat{y}_i)^2$$"
   ]
  },
  {
   "cell_type": "markdown",
   "id": "20a545a6-03fe-43d6-b5e8-365ce36d2f1e",
   "metadata": {},
   "source": [
    "Where:         \n",
    "\n",
    "* The actual value$$y_i$$    \n",
    "\n",
    "* The predicted value $$\\hat{y}_i$$     \n",
    "\n",
    "* The number of data points $$n$$          "
   ]
  },
  {
   "cell_type": "markdown",
   "id": "984b9797-692d-4c37-a2b6-5d7a634bf490",
   "metadata": {},
   "source": [
    "## Explanation:\n",
    "**1 Error Calculation:**\n",
    "\n",
    "* For each data point, the difference between the actual value and the predicted value is calculated.\n",
    "\n",
    "* This difference is squared to ensure all errors are positive and to penalize larger errors more heavily.\n",
    "\n",
    "**2 Averaging:**\n",
    "\n",
    "* The squared errors are summed up and divided by the number of data points to compute the mean."
   ]
  },
  {
   "cell_type": "markdown",
   "id": "58f3e753-799d-4de3-a890-9f6ea40842bb",
   "metadata": {},
   "source": [
    "## Characteristics:\n",
    "* Range: MSE is always non-negative, as squared values cannot be negative.\n",
    "\n",
    "* Interpretation: A smaller MSE indicates better predictions, as the errors are closer to zero."
   ]
  },
  {
   "cell_type": "code",
   "execution_count": 397,
   "id": "14f8beac-d423-45de-9f8f-77faef6cc35c",
   "metadata": {},
   "outputs": [],
   "source": [
    "# Mean squared error loss\n",
    "def mse_loss(y_true, y_pred):\n",
    "    return np.mean((y_true - y_pred) ** 2)"
   ]
  },
  {
   "cell_type": "markdown",
   "id": "10c837f0-1798-4240-a026-839f6a0424ce",
   "metadata": {},
   "source": [
    "## Applications:\n",
    "MSE is widely used in machine learning models, especially for regression tasks, to evaluate the performance of a model. It helps in optimizing the model parameters by minimizing the loss during training."
   ]
  },
  {
   "cell_type": "code",
   "execution_count": 400,
   "id": "5d4e0eaa-dca9-490e-86ca-9c1a41eaeb9e",
   "metadata": {},
   "outputs": [
    {
     "name": "stdout",
     "output_type": "stream",
     "text": [
      "Mean Squared Error: 0.375\n"
     ]
    }
   ],
   "source": [
    "import numpy as np\n",
    "\n",
    "# Define the actual and predicted arrays\n",
    "actual = np.array([3, -0.5, 2, 7])  # Replace with your actual values\n",
    "predicted = np.array([2.5, 0.0, 2, 8])  # Replace with your predicted values\n",
    "\n",
    "# Calculate the Mean Squared Error\n",
    "mse = np.mean((actual - predicted)**2)\n",
    "\n",
    "print(f\"Mean Squared Error: {mse}\")"
   ]
  },
  {
   "cell_type": "code",
   "execution_count": null,
   "id": "1ef8bcbc-c14b-492c-b1e4-27439dc5f5e3",
   "metadata": {},
   "outputs": [],
   "source": []
  }
 ],
 "metadata": {
  "kernelspec": {
   "display_name": "Python [conda env:base] *",
   "language": "python",
   "name": "conda-base-py"
  },
  "language_info": {
   "codemirror_mode": {
    "name": "ipython",
    "version": 3
   },
   "file_extension": ".py",
   "mimetype": "text/x-python",
   "name": "python",
   "nbconvert_exporter": "python",
   "pygments_lexer": "ipython3",
   "version": "3.12.7"
  }
 },
 "nbformat": 4,
 "nbformat_minor": 5
}
